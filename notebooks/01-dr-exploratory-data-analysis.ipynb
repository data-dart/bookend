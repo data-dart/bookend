{
 "cells": [
  {
   "cell_type": "code",
   "execution_count": 1,
   "metadata": {},
   "outputs": [],
   "source": [
    "import sys\n",
    "sys.path.append('./../src')\n",
    "from book import BookText\n",
    "import nltk\n",
    "import matplotlib.pyplot as plt\n",
    "import numpy as np\n",
    "import glob\n",
    "import random\n",
    "\n",
    "data_raw = str('./../data/raw/')"
   ]
  },
  {
   "cell_type": "code",
   "execution_count": 2,
   "metadata": {},
   "outputs": [
    {
     "name": "stdout",
     "output_type": "stream",
     "text": [
      "[95, 97, 29, 92, 31, 58, 35, 51, 53, 62]\n",
      "10\n"
     ]
    }
   ],
   "source": [
    "random.seed(220)\n",
    "a = random.sample(range(0,100), 10)\n",
    "print(a)\n",
    "\n",
    "indices = [2, 3, 5]\n",
    "for index in sorted(indices, reverse=True):\n",
    "    del a[index]\n",
    "    \n",
    "a\n",
    "t = 0\n",
    "t = sum(i for i in range(5))\n",
    "print(t)\n"
   ]
  },
  {
   "cell_type": "code",
   "execution_count": 3,
   "metadata": {},
   "outputs": [],
   "source": [
    "def get_files(lastnameauthor, nbooks):\n",
    "    filename_struc = data_raw + lastnameauthor.lower() + str('*')\n",
    "    if (nbooks > len(glob.glob(filename_struc))):\n",
    "        print (str(\"Only \") + str(len(glob.glob(filename_struc))) + str(\" books available by \") + lastnameauthor)\n",
    "#     for i in range(len(glob.glob(filename_struc))):\n",
    "#         if i < nbooks:\n",
    "#             print (glob.glob(filename_struc)[i])\n",
    "#             print (glob.glob(filename_struc)[i].split('/')[-1].split('.')[0].split('_')[1])\n",
    "    #print (BookText(file).title for i, file in enumerate(glob.glob(filename_struc)) if i < nbooks)\n",
    "    return [BookText(filepath = file).clean(lemmatize=False) for i, file in enumerate(glob.glob(filename_struc)) if i < nbooks]"
   ]
  },
  {
   "cell_type": "code",
   "execution_count": 10,
   "metadata": {},
   "outputs": [],
   "source": [
    "y = get_files('austen',3)"
   ]
  },
  {
   "cell_type": "code",
   "execution_count": 11,
   "metadata": {},
   "outputs": [],
   "source": [
    "eda_authlist = ['austen', 'dickens', 'defoe']\n",
    "book_dictloc = {author : get_files(author, 3) for author in eda_authlist}"
   ]
  },
  {
   "cell_type": "code",
   "execution_count": 12,
   "metadata": {},
   "outputs": [],
   "source": [
    "# print(book_dictloc['dickens'][0].title.split(\"\\n\")[0])\n",
    "# print(book_dictloc['dickens'][0].snippet(20, 'sent').text)"
   ]
  },
  {
   "cell_type": "code",
   "execution_count": 13,
   "metadata": {},
   "outputs": [],
   "source": [
    "def word_per_sent(link, normalised = False, stopwords = False):\n",
    "    sentences = link.tokenize('sent', rem_stopwords = stopwords)\n",
    "    if normalised == False:\n",
    "        return [len(nltk.word_tokenize(token.lower())) for token in sentences]\n",
    "    else:\n",
    "        return [len(nltk.word_tokenize(token.lower()))/len(sentences) for token in sentences]"
   ]
  },
  {
   "cell_type": "code",
   "execution_count": 4,
   "metadata": {},
   "outputs": [],
   "source": [
    "def sent_snippet(link: BookText, n_groups=1, n_sent=1, with_replacement=False, rem_stopwords=False, random_seed=0):\n",
    "    \n",
    "    \"\"\"\n",
    "    link = BookText Object\n",
    "    n_groups = Number of groups of snippets from a booktext object. Will return an array with \n",
    "               n_groups number of book_text objects\n",
    "    n_sent = Number of sentences in each snippet that you want.\n",
    "    with_replacement = (Default = False). This function will return snippets with no repeated sentences.\n",
    "                        If you want repetition of sentences, set it to TRUE\n",
    "    rem_stopwords = By Default, the function will not remove stopwords during tokenize. Set it to TRUE to remove\n",
    "                stopwords.\n",
    "    random_seed = Set a value to get the same snippets everytime. Do not set 0, as it corresponds to using\n",
    "                  system_time as seed.  \n",
    "    \"\"\"\n",
    "    return_array = []\n",
    "    \n",
    "    \n",
    "    sentences = link.tokenize('sent', rem_stopwords)\n",
    "    \n",
    "    if not n_groups*n_sent >= len(sentences):\n",
    "        if (random_seed != 0):\n",
    "            random.seed(random_seed)\n",
    "        for iteration in range(n_groups):\n",
    "            random_sample_of_indices = random.sample(range(0, len(sentences)), n_sent)\n",
    "            snippet = BookText(rawtext=''.join([BookText(rawtext = sentences[num]).text + str(' ') for num in random_sample_of_indices]))\n",
    "            return_array.append(snippet)\n",
    "            if with_replacement == False:\n",
    "                for index in sorted(random_sample_of_indices, reverse=True):\n",
    "                    del sentences[index]\n",
    "            if (random_seed != 0):\n",
    "                random.seed(random_seed + iteration + 1)\n",
    "    else:\n",
    "        print (\"Not enough sentences to generate required number of snippets. Lower n_groups and n_sent.\")\n",
    "                \n",
    "    return return_array"
   ]
  },
  {
   "cell_type": "code",
   "execution_count": 5,
   "metadata": {},
   "outputs": [],
   "source": [
    "# def random_snippet(self: BookText, on, n_groups=1, n_on=1, with_replacement=False, rem_stopwords=False, random_seed=0):\n",
    "    \n",
    "#     \"\"\"\n",
    "#     link = BookText Object\n",
    "#     n_groups = Number of groups of snippets from a booktext object. Will return an array with \n",
    "#                n_groups number of book_text objects\n",
    "#     n_on = Number of characters/words/sentences in each snippet that you want.\n",
    "#     with_replacement = (Default = False). This function will return snippets with no repeated sentences.\n",
    "#                         If you want repetition of sentences, set it to TRUE\n",
    "#     rem_stopwords = By Default, the function will not remove stopwords during tokenize. Set it to TRUE to remove\n",
    "#                 stopwords.\n",
    "#     random_seed = Set a value to get the same snippets everytime. Do not set 0, as it corresponds to using\n",
    "#                   system_time as seed.  \n",
    "#     \"\"\"\n",
    "#     return_array = []\n",
    "    \n",
    "#     if 'char' in on.lower():\n",
    "#         tokens = self._text\n",
    "#     elif 'word' in on.lower():\n",
    "#         tokens = self.tokenize('word', rem_stopwords)\n",
    "#     elif 'sent' in on.lower():\n",
    "#         tokens = self.tokenize('sent', rem_stopwords)\n",
    "#     else:\n",
    "#         raise KeyError(\n",
    "#             \"Argument 'on' must refer to character, word, or sentence\")\n",
    "#     assert n_groups*n_on < len(tokens)\n",
    "    \n",
    "#     if (random_seed != 0):\n",
    "#         random.seed(random_seed)\n",
    "        \n",
    "#     for iteration in range(n_groups):\n",
    "#         random_sample_of_indices = random.sample(range(0, len(tokens)), n_on)\n",
    "#         snippet = BookText(rawtext=''.join([BookText(rawtext = tokens[num]).text + str(' ') for num in random_sample_of_indices]), author = self.author, title = self.title, meta = self.meta)\n",
    "#         return_array.append(snippet)\n",
    "#         if with_replacement == False:\n",
    "#             for index in sorted(random_sample_of_indices, reverse=True):\n",
    "#                 del tokens[index]\n",
    "#         if (random_seed != 0):\n",
    "#                 random.seed(random_seed + iteration + 1)\n",
    "                \n",
    "#     return return_array"
   ]
  },
  {
   "cell_type": "code",
   "execution_count": 6,
   "metadata": {},
   "outputs": [],
   "source": [
    "test = BookText(rawtext = \"I am Inigo Montoya. You killed my father. Prepare to die. This line is from Princess Bride. Mandy Patinkin was in it. I am Batman.\", author = \"Me\")\n",
    "test2 = BookText(rawtext = \"I am Inigo Montoya again.\")\n",
    "test3 = test+test2"
   ]
  },
  {
   "cell_type": "code",
   "execution_count": 10,
   "metadata": {},
   "outputs": [
    {
     "name": "stdout",
     "output_type": "stream",
     "text": [
      "mandy patinkin was in it. you killed my father. \n",
      "you killed my father. mandy patinkin was in it. \n"
     ]
    }
   ],
   "source": [
    "y = sent_snippet(test, 2, 2, with_replacement = True, random_seed = 100)\n",
    "print(y[1]._text)\n",
    "\n",
    "\n",
    "z = test.random_snippet('sent', 2, 2, randomized = True, with_replacement = True, random_seed = 100)\n",
    "print(z[1]._text)"
   ]
  },
  {
   "cell_type": "code",
   "execution_count": 7,
   "metadata": {},
   "outputs": [
    {
     "data": {
      "text/plain": [
       "[<book.BookText at 0x1a24b3fe10>, <book.BookText at 0x1a249166d0>]"
      ]
     },
     "execution_count": 7,
     "metadata": {},
     "output_type": "execute_result"
    }
   ],
   "source": [
    "sent_snippet(test, 2, 2, random_seed = 100)"
   ]
  },
  {
   "cell_type": "code",
   "execution_count": 19,
   "metadata": {},
   "outputs": [],
   "source": [
    "nwords_wo_stopwords = []\n",
    "nwords_w_stopwords = []\n",
    "for author in eda_authlist:\n",
    "    Y = []\n",
    "    Z = []\n",
    "    for link in book_dictloc[author]:\n",
    "        Y.append(word_per_sent(link, True, False))\n",
    "        Z.append(word_per_sent(link, True, True))\n",
    "    nwords_wo_stopwords.append(Y)\n",
    "    nwords_w_stopwords.append(Z)\n",
    "nwords_wo_stopwords = np.array(nwords_wo_stopwords)\n",
    "nwords_w_stopwords = np.array(nwords_w_stopwords)"
   ]
  },
  {
   "cell_type": "code",
   "execution_count": 24,
   "metadata": {},
   "outputs": [
    {
     "data": {
      "image/png": "[encoded data removed]",
      "text/plain": [
       "<Figure size 1152x720 with 9 Axes>"
      ]
     },
     "metadata": {
      "needs_background": "light"
     },
     "output_type": "display_data"
    }
   ],
   "source": [
    "# plot the data\n",
    "# make the figure\n",
    "fig,ax = plt.subplots(3,3,figsize = (16,10),sharey=False)\n",
    "for i, author in enumerate(eda_authlist):\n",
    "    for j in range(len(book_dictloc[author])):\n",
    "        ax[i,j].hist([nwords_wo_stopwords[i][j], nwords_w_stopwords[i][j]], bins = 50, histtype='step', label = ['Without Stopwords', 'With Stopwords'])\n",
    "        ax[i,j].set_yscale('log')\n",
    "        ax[i,j].set_title(str(author) + str(\" \") + book_dictloc[author][j].title.split(\"\\n\")[0].replace(\" \", \"\"))"
   ]
  },
  {
   "cell_type": "code",
   "execution_count": null,
   "metadata": {},
   "outputs": [],
   "source": [
    "#Part of Speech Tagging Here\n",
    "\n",
    "def get_pos_tags():\n",
    "    \n",
    "    \n"
   ]
  },
  {
   "cell_type": "code",
   "execution_count": 65,
   "metadata": {},
   "outputs": [
    {
     "name": "stdout",
     "output_type": "stream",
     "text": [
      "8076\n",
      "8076\n"
     ]
    }
   ],
   "source": [
    "sentences1 = x.tokenize('sent', rem_stopwords = True)\n",
    "sentences2 = x.tokenize('sent', rem_stopwords = False)\n",
    "print (len(sentences1))\n",
    "print (len(sentences2))"
   ]
  },
  {
   "cell_type": "code",
   "execution_count": 50,
   "metadata": {},
   "outputs": [
    {
     "data": {
      "image/png": "[encoded data removed]",
      "text/plain": [
       "<Figure size 432x288 with 1 Axes>"
      ]
     },
     "metadata": {
      "needs_background": "light"
     },
     "output_type": "display_data"
    }
   ],
   "source": [
    "word_per_sent1 = []\n",
    "word_per_sent2 = []\n",
    "\n",
    "for token1, token2 in zip(sentences1, sentences2):\n",
    "    word_per_sent1.append(len(nltk.word_tokenize(token1.lower())))\n",
    "    word_per_sent2.append(len(nltk.word_tokenize(token2.lower())))\n",
    "\n",
    "#print (word_per_sent[1:20])\n",
    "\n",
    "plt.hist([word_per_sent1, word_per_sent2],  bins = 50, histtype='step', label = ['Without Stopwords', 'With Stopwords'])\n",
    "plt.yscale(\"linear\")\n",
    "plt.legend(loc='upper right')\n",
    "plt.show()\n",
    "\n",
    "#print(np.where(np.array(word_per_sent) < 3))"
   ]
  },
  {
   "cell_type": "code",
   "execution_count": 40,
   "metadata": {},
   "outputs": [
    {
     "name": "stdout",
     "output_type": "stream",
     "text": [
      "(1,)\n"
     ]
    }
   ],
   "source": [
    "location = np.array(np.where(np.array(word_per_sent) < 2)).flatten()\n",
    "print(np.shape(location))"
   ]
  },
  {
   "cell_type": "code",
   "execution_count": 41,
   "metadata": {},
   "outputs": [
    {
     "name": "stdout",
     "output_type": "stream",
     "text": [
      "finis\n"
     ]
    }
   ],
   "source": [
    "for num in location:\n",
    "    print (sentences2[num])"
   ]
  },
  {
   "cell_type": "code",
   "execution_count": null,
   "metadata": {},
   "outputs": [],
   "source": []
  },
  {
   "cell_type": "code",
   "execution_count": null,
   "metadata": {},
   "outputs": [],
   "source": []
  }
 ],
 "metadata": {
  "kernelspec": {
   "display_name": "Python 3",
   "language": "python",
   "name": "python3"
  },
  "language_info": {
   "codemirror_mode": {
    "name": "ipython",
    "version": 3
   },
   "file_extension": ".py",
   "mimetype": "text/x-python",
   "name": "python",
   "nbconvert_exporter": "python",
   "pygments_lexer": "ipython3",
   "version": "3.7.6"
  }
 },
 "nbformat": 4,
 "nbformat_minor": 4
}
